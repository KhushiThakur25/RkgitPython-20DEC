{
 "cells": [
  {
   "cell_type": "code",
   "execution_count": 1,
   "id": "c65624b1-18b6-4330-98bc-72eb23ed7f72",
   "metadata": {
    "tags": []
   },
   "outputs": [
    {
     "name": "stdout",
     "output_type": "stream",
     "text": [
      "Python DSA\n"
     ]
    }
   ],
   "source": [
    "print(\"Python DSA\")"
   ]
  },
  {
   "cell_type": "code",
   "execution_count": 8,
   "id": "30f95396-60b9-4ebc-a408-7700d75ffd48",
   "metadata": {
    "tags": []
   },
   "outputs": [
    {
     "name": "stdout",
     "output_type": "stream",
     "text": [
      "Python.. 1\n",
      "Python.. 2\n",
      "Python.. 3\n",
      "Python.. 4\n",
      "Python.. 5\n",
      "Python.. 6\n"
     ]
    }
   ],
   "source": [
    "def show(n):\n",
    "    if n == 0:\n",
    "        return\n",
    "    show(n-1)\n",
    "    print(\"Python..\",n)\n",
    "    \n",
    "    \n",
    "show(6)"
   ]
  },
  {
   "cell_type": "code",
   "execution_count": null,
   "id": "19c12f09-c74c-4871-b0e4-c1b57f1402d6",
   "metadata": {},
   "outputs": [],
   "source": []
  },
  {
   "cell_type": "code",
   "execution_count": 4,
   "id": "95ac165c-a2c3-41a2-8ad0-32d2b807cf4d",
   "metadata": {
    "tags": []
   },
   "outputs": [
    {
     "data": {
      "text/plain": [
       "3000"
      ]
     },
     "execution_count": 4,
     "metadata": {},
     "output_type": "execute_result"
    }
   ],
   "source": [
    "import sys\n",
    "sys.getrecursionlimit()"
   ]
  },
  {
   "cell_type": "code",
   "execution_count": 1,
   "id": "ceb2d749-c844-4918-9383-33b9535450e2",
   "metadata": {},
   "outputs": [
    {
     "data": {
      "text/plain": [
       "120"
      ]
     },
     "execution_count": 1,
     "metadata": {},
     "output_type": "execute_result"
    }
   ],
   "source": [
    "def factorial(n):\n",
    "    if n == 1 or n == 0 :\n",
    "        return 1\n",
    "    return n*factorial(n-1)\n",
    "factorial(5)"
   ]
  },
  {
   "cell_type": "code",
   "execution_count": 2,
   "id": "de1d112c-2d4d-404a-bc32-d7fa8dcf4768",
   "metadata": {
    "tags": []
   },
   "outputs": [
    {
     "data": {
      "text/plain": [
       "15"
      ]
     },
     "execution_count": 2,
     "metadata": {},
     "output_type": "execute_result"
    }
   ],
   "source": [
    "def SOD(n):\n",
    "    if n==0:\n",
    "        return 0\n",
    "    return n%10 + SOD(n//10)\n",
    "SOD(12345)"
   ]
  },
  {
   "cell_type": "code",
   "execution_count": 5,
   "id": "7484bffa-feb0-4916-b0a1-53e93d548048",
   "metadata": {
    "tags": []
   },
   "outputs": [
    {
     "data": {
      "text/plain": [
       "625"
      ]
     },
     "execution_count": 5,
     "metadata": {},
     "output_type": "execute_result"
    }
   ],
   "source": [
    "def powerOfn(n,p):\n",
    "    if p == 1:\n",
    "        return n\n",
    "    if p == 0:\n",
    "        return 1\n",
    "    return n*powerOfn(n,p-1)\n",
    "\n",
    "powerOfn(5,4)\n",
    "    "
   ]
  },
  {
   "cell_type": "code",
   "execution_count": null,
   "id": "16456a89-d202-495e-9700-8939f7a65990",
   "metadata": {},
   "outputs": [],
   "source": []
  }
 ],
 "metadata": {
  "kernelspec": {
   "display_name": "Python 3 (ipykernel)",
   "language": "python",
   "name": "python3"
  },
  "language_info": {
   "codemirror_mode": {
    "name": "ipython",
    "version": 3
   },
   "file_extension": ".py",
   "mimetype": "text/x-python",
   "name": "python",
   "nbconvert_exporter": "python",
   "pygments_lexer": "ipython3",
   "version": "3.11.5"
  }
 },
 "nbformat": 4,
 "nbformat_minor": 5
}
