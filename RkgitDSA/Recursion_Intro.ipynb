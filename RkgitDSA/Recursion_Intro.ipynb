{
 "cells": [
  {
   "cell_type": "code",
   "execution_count": 1,
   "id": "c65624b1-18b6-4330-98bc-72eb23ed7f72",
   "metadata": {
    "tags": []
   },
   "outputs": [
    {
     "name": "stdout",
     "output_type": "stream",
     "text": [
      "Python DSA\n"
     ]
    }
   ],
   "source": [
    "print(\"Python DSA\")"
   ]
  },
  {
   "cell_type": "code",
   "execution_count": 1,
   "id": "30f95396-60b9-4ebc-a408-7700d75ffd48",
   "metadata": {
    "tags": []
   },
   "outputs": [
    {
     "name": "stdout",
     "output_type": "stream",
     "text": [
      "Python.. 6\n",
      "Python.. 5\n",
      "Python.. 4\n",
      "Python.. 3\n",
      "Python.. 2\n",
      "Python.. 1\n",
      "Python.. 1\n",
      "Python.. 2\n",
      "Python.. 3\n",
      "Python.. 4\n",
      "Python.. 5\n",
      "Python.. 6\n"
     ]
    }
   ],
   "source": [
    "def show(n):\n",
    "    if n == 0:\n",
    "        return\n",
    "    print(\"Python..\",n)\n",
    "    show(n-1)\n",
    "    print(\"Python..\",n)\n",
    "    \n",
    "    \n",
    "show(6)"
   ]
  },
  {
   "cell_type": "code",
   "execution_count": null,
   "id": "19c12f09-c74c-4871-b0e4-c1b57f1402d6",
   "metadata": {},
   "outputs": [],
   "source": []
  },
  {
   "cell_type": "code",
   "execution_count": 4,
   "id": "95ac165c-a2c3-41a2-8ad0-32d2b807cf4d",
   "metadata": {
    "tags": []
   },
   "outputs": [
    {
     "data": {
      "text/plain": [
       "3000"
      ]
     },
     "execution_count": 4,
     "metadata": {},
     "output_type": "execute_result"
    }
   ],
   "source": [
    "import sys\n",
    "sys.getrecursionlimit()"
   ]
  },
  {
   "cell_type": "code",
   "execution_count": 1,
   "id": "ceb2d749-c844-4918-9383-33b9535450e2",
   "metadata": {},
   "outputs": [
    {
     "data": {
      "text/plain": [
       "120"
      ]
     },
     "execution_count": 1,
     "metadata": {},
     "output_type": "execute_result"
    }
   ],
   "source": [
    "# 1.factorial\n",
    "def factorial(n):\n",
    "    if n == 1 or n == 0 :\n",
    "        return 1\n",
    "    return n*factorial(n-1)\n",
    "factorial(5)"
   ]
  },
  {
   "cell_type": "code",
   "execution_count": 2,
   "id": "de1d112c-2d4d-404a-bc32-d7fa8dcf4768",
   "metadata": {
    "tags": []
   },
   "outputs": [
    {
     "data": {
      "text/plain": [
       "15"
      ]
     },
     "execution_count": 2,
     "metadata": {},
     "output_type": "execute_result"
    }
   ],
   "source": [
    "#2. Sum of digits\n",
    "def SOD(n):\n",
    "    if n==0:\n",
    "        return 0\n",
    "    return n%10 + SOD(n//10)\n",
    "SOD(12345)"
   ]
  },
  {
   "cell_type": "code",
   "execution_count": 5,
   "id": "7484bffa-feb0-4916-b0a1-53e93d548048",
   "metadata": {
    "tags": []
   },
   "outputs": [
    {
     "data": {
      "text/plain": [
       "625"
      ]
     },
     "execution_count": 5,
     "metadata": {},
     "output_type": "execute_result"
    }
   ],
   "source": [
    "#3. power of n\n",
    "def powerOfn(n,p):\n",
    "    if p == 1:\n",
    "        return n\n",
    "    if p == 0:\n",
    "        return 1\n",
    "    return n*powerOfn(n,p-1)\n",
    "\n",
    "powerOfn(5,4)\n",
    "    "
   ]
  },
  {
   "cell_type": "code",
   "execution_count": 1,
   "id": "16456a89-d202-495e-9700-8939f7a65990",
   "metadata": {},
   "outputs": [
    {
     "name": "stdout",
     "output_type": "stream",
     "text": [
      "element is present on the index 4\n"
     ]
    }
   ],
   "source": [
    "#4. searchElement\n",
    "li = [2,3,4,5,6,9,8]\n",
    "def searchElement(li,t,i):\n",
    "    if i < 0:\n",
    "        return -1\n",
    "    if t == li[i]:\n",
    "        return i\n",
    "    return searchElement(li,t,i-1)\n",
    "\n",
    "result = searchElement(li,6,len(li)-1)\n",
    "if result != -1:\n",
    "    print(f\"element is present on the index {result}\")\n",
    "else:\n",
    "    print(\"Element is not present in the list\")"
   ]
  },
  {
   "cell_type": "code",
   "execution_count": 3,
   "id": "82de660c-bb66-402a-b9b1-0cc978f01bd2",
   "metadata": {
    "tags": []
   },
   "outputs": [
    {
     "data": {
      "text/plain": [
       "False"
      ]
     },
     "execution_count": 3,
     "metadata": {},
     "output_type": "execute_result"
    }
   ],
   "source": [
    "#5. Check list sorted or not..?\n",
    "#6. check palindrome\n",
    "def palindrome(st):\n",
    "    if len(st)==0:\n",
    "        return True\n",
    "    \n",
    "    if st[0] != st[-1]:\n",
    "        return False\n",
    "    return palindrome(st[1:-1])\n",
    "palindrome(\"rahul\")"
   ]
  },
  {
   "cell_type": "code",
   "execution_count": 8,
   "id": "63ba50e8-cf40-447d-98c5-9887b8094297",
   "metadata": {
    "tags": []
   },
   "outputs": [
    {
     "data": {
      "text/plain": [
       "91"
      ]
     },
     "execution_count": 8,
     "metadata": {},
     "output_type": "execute_result"
    }
   ],
   "source": [
    "#7Find max in list\n",
    "def findMax(li):\n",
    "        if len(li) == 1:\n",
    "            return li[0]\n",
    "        maxs = findMax(li[1:])\n",
    "        if li[0] > maxs:\n",
    "            return li[0]\n",
    "        else:\n",
    "            return maxs\n",
    "findMax([2,8,3,16,91,42])\n",
    "#8 Find min in list"
   ]
  },
  {
   "cell_type": "code",
   "execution_count": 1,
   "id": "95232406-5b8e-49c0-a91c-0c4692fc91af",
   "metadata": {},
   "outputs": [],
   "source": [
    "# 9. reverse a string\n",
    "# 10.count the digit\n",
    "# 11.print a series of 9\n",
    "# 12.search character in a string and replace it with given character.\n",
    "# 13.Check if number is strong or not..?\n",
    "\n",
    "# 14. reverse a list\n",
    "# 15. search element in an array and replace with another element.\n",
    "# 16.Armstrong using recursion"
   ]
  },
  {
   "cell_type": "code",
   "execution_count": 2,
   "id": "b7739de0-702b-4b40-91d0-7830fd91455d",
   "metadata": {
    "tags": []
   },
   "outputs": [
    {
     "data": {
      "text/plain": [
       "'navas'"
      ]
     },
     "execution_count": 2,
     "metadata": {},
     "output_type": "execute_result"
    }
   ],
   "source": [
    "st = \"savan\"\n",
    "def reverse_st(st):\n",
    "    if len(st) == 0:\n",
    "        return st\n",
    "    return reverse_st(st[1:])+st[0]\n",
    "\n",
    "reverse_st(st)"
   ]
  },
  {
   "cell_type": "code",
   "execution_count": 3,
   "id": "31f02e3f-b113-4e47-b45e-2ead8d73c0a5",
   "metadata": {
    "tags": []
   },
   "outputs": [
    {
     "data": {
      "text/plain": [
       "1107"
      ]
     },
     "execution_count": 3,
     "metadata": {},
     "output_type": "execute_result"
    }
   ],
   "source": [
    "n = 3\n",
    "def series_9(n):\n",
    "    if n==0:\n",
    "        return 0\n",
    "    series = int('9'*n)\n",
    "    return series + series_9(n-1)\n",
    "series_9(n)"
   ]
  },
  {
   "cell_type": "code",
   "execution_count": 6,
   "id": "3896614b-93b2-4c78-81b4-3941e607d18b",
   "metadata": {
    "tags": []
   },
   "outputs": [
    {
     "data": {
      "text/plain": [
       "5"
      ]
     },
     "execution_count": 6,
     "metadata": {},
     "output_type": "execute_result"
    }
   ],
   "source": [
    "n = 12345\n",
    "def count_dig(n,c):\n",
    "    if n==0:\n",
    "        return c\n",
    "    \n",
    "    return count_dig(n//10,c+1)\n",
    "count_dig(n,0)"
   ]
  },
  {
   "cell_type": "code",
   "execution_count": 7,
   "id": "6bb1cb83-c0e7-4617-bdb5-f6373beb3d77",
   "metadata": {
    "tags": []
   },
   "outputs": [
    {
     "data": {
      "text/plain": [
       "'qqsvqsqn'"
      ]
     },
     "execution_count": 7,
     "metadata": {},
     "output_type": "execute_result"
    }
   ],
   "source": [
    "st = 'aasvasan'\n",
    "ch = 'a'\n",
    "rp = 'q'\n",
    "def repl_ch(st,ch,rp):\n",
    "    if not st:\n",
    "        return \"\"\n",
    "    if st[0]==ch:\n",
    "        return rp + repl_ch(st[1:],ch,rp)\n",
    "    else:\n",
    "        return st[0] + repl_ch(st[1:],ch,rp)\n",
    "repl_ch(st,ch,rp)"
   ]
  },
  {
   "cell_type": "code",
   "execution_count": null,
   "id": "ab049465-f712-4789-bb7a-bf742ff6aeeb",
   "metadata": {},
   "outputs": [],
   "source": []
  }
 ],
 "metadata": {
  "kernelspec": {
   "display_name": "Python 3 (ipykernel)",
   "language": "python",
   "name": "python3"
  },
  "language_info": {
   "codemirror_mode": {
    "name": "ipython",
    "version": 3
   },
   "file_extension": ".py",
   "mimetype": "text/x-python",
   "name": "python",
   "nbconvert_exporter": "python",
   "pygments_lexer": "ipython3",
   "version": "3.11.5"
  }
 },
 "nbformat": 4,
 "nbformat_minor": 5
}
